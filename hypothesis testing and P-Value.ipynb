{
 "cells": [
  {
   "cell_type": "code",
   "execution_count": 2,
   "id": "d9e0899f-a7c4-4df2-9d24-6ceffe02bea9",
   "metadata": {
    "tags": []
   },
   "outputs": [],
   "source": [
    "import pandas as pd \n",
    "import numpy  as np\n",
    "import seaborn as sns \n",
    "from matplotlib import pyplot as plt \n",
    "plt.style.use('dark_background')"
   ]
  },
  {
   "cell_type": "markdown",
   "id": "6ccb1725-b46c-4e79-ac7d-4c771d081898",
   "metadata": {},
   "source": [
    "Вітаю, шановні читачі!\n",
    "Роблю ставку на те, що ви пов'язані з Data Analysis чи Data Science, раз вирішили зайти до мене на GitHub та подивитись на мої проєкти. Сьогодні в моїх планах - продемонструвати статистику, а саме дуже важливу тему - перевірку гіпотез та P-Value. Хочу зазначити, що це мої думки. Якщо ви в цьому знайдете щось корисне, буду дуже радий. Якщо знайдете помилки, це теж добре – є чому вчитись."
   ]
  },
  {
   "cell_type": "markdown",
   "id": "5de5db3e-9527-4c7b-a901-bb033dd605c5",
   "metadata": {},
   "source": [
    "Отже, не буду повністю розповідати, що таке P-Value з точки зору статистики, а подивимось на це з точки зору програмування. І припускаю, що ви вже ознайомлені трошки з цією темою."
   ]
  },
  {
   "cell_type": "markdown",
   "id": "99082ad1-8fdf-4417-900c-7aba88477cc4",
   "metadata": {
    "tags": []
   },
   "source": [
    "Так, на показник P-Value ми можемо дивитися орінтовано на різні статистичні тести, такі як T-test, ann whitney, та навіть \n",
    "через bootstrap. Але сьогодні я буду використовувати прийом 'Монте-Карло' ми будемо штучно симулювати наші дані та дивитися на результати. \n",
    "Отож приступимо."
   ]
  },
  {
   "cell_type": "markdown",
   "id": "a2541bbe-999f-47bb-b413-92e513a4a491",
   "metadata": {},
   "source": [
    "Припустимо, що ми працюємо в IT компанії та у нас є свій додаток. Наша ціль - не просто мати свій застосунок, але покращити наш продукт, зробити його легше сприйняття для користувачів. Наприклад, якщо ми є банком, і у нас є мобільний застосунок, мета його створення - спростити роботу для користувачів.\n",
    "\n",
    "Тепер уявімо, що до нас приходить наш менеджер та стверджує, що нашим додатком задоволено 80% користувачів. Це круто, але логічно би було перевірити, чи це правда. Вірити одному менеджеру непереконливо. Отже, ми вирішили провести перевірку гіпотези.\n",
    "\n",
    "Сформулюємо гіпотезу: Нехай менеджер правий і нашим додатком задоволено 80% користувачів. Проте, яка ймовірність отримати такі або ще гірші результати? Для цього проведемо випадкове опитування 100 людей. Результат показав, що 75 із 100 задоволені.\n",
    "\n",
    "Логіка полягає в перевірці, чи 80%, які стверджує менеджер, не є випадковістю. Отримані результати 75% є досить малоймовірними. Важливо зазначити, що ми акцентуємо увагу на односторонньому тесті, оскільки нас задовольняє будь-яке поліпшення результатів, але гірші результати нас не влаштовують.\n",
    "\n",
    "Зараз ми переходимо до генерації даних."
   ]
  },
  {
   "cell_type": "code",
   "execution_count": 24,
   "id": "87b47e9b-b859-4da7-b8c0-78b1bdfa00e7",
   "metadata": {
    "tags": []
   },
   "outputs": [
    {
     "data": {
      "text/plain": [
       "0.73"
      ]
     },
     "execution_count": 24,
     "metadata": {},
     "output_type": "execute_result"
    }
   ],
   "source": [
    "np.random.binomial(1,0.8, size = 100).mean()"
   ]
  },
  {
   "cell_type": "markdown",
   "id": "3d682df8-970a-4d73-ac43-95ac608774f4",
   "metadata": {},
   "source": [
    "Як ми можемо побачити, що дійсно в ймовірності може бути така ситуація, де результат наш може бути навіть меншим, ніж той, що нам сказав менеджер? У нас є можливість перевірити це, наприклад, за допомогою симуляції даних."
   ]
  },
  {
   "cell_type": "code",
   "execution_count": 80,
   "id": "7019d3a7-2339-40c7-b54d-8bb7d0891e97",
   "metadata": {
    "tags": []
   },
   "outputs": [
    {
     "data": {
      "text/plain": [
       "0.2"
      ]
     },
     "execution_count": 80,
     "metadata": {},
     "output_type": "execute_result"
    }
   ],
   "source": [
    "np.mean([ np.random.binomial(1,0.8, size = 100).mean() <=0.75 for _ in range(10) ])"
   ]
  },
  {
   "cell_type": "markdown",
   "id": "0f5c70d5-fb27-477a-aa7a-b8898d402e6c",
   "metadata": {},
   "source": [
    "Ми взяли, сгенерували наш експеримент та поставили умову, що цей вираз <= чим наш реальний експеримент 0.75. І провели цей експеримент 10 раз. Хочу зазначити, що чим кількість проведень наших експериментів, тим вона є лінійною. Чим більше ми проведемо наших дослідів, тим краще і точніше буде значення. Давайте в наступному полі проведемо такий самий експеримент, але тільки 10000 раз."
   ]
  },
  {
   "cell_type": "code",
   "execution_count": 81,
   "id": "bda47fbd-cca0-4365-948f-5245efa35ba3",
   "metadata": {
    "tags": []
   },
   "outputs": [
    {
     "data": {
      "text/plain": [
       "0.1323"
      ]
     },
     "execution_count": 81,
     "metadata": {},
     "output_type": "execute_result"
    }
   ],
   "source": [
    "np.mean([ np.random.binomial(1,0.8, size = 100).mean() <=0.75 for _ in range(10_000) ])"
   ]
  },
  {
   "cell_type": "markdown",
   "id": "e0c00ef5-340c-4174-90d7-57487a7e1c9a",
   "metadata": {},
   "source": [
    "\n",
    "\n",
    "Ось тут ми бачимо різницю між двома прикладами. Ми отримали 13 відсотків ймовірності, при тому що H0 (нульова гіпотеза) вірна. Отримати H1 (наша альтернатива) ймовірність складає 13%. Це багато для того, щоб прийняти нашу альтернативу і сказати, що, скоріш за все, менеджер нам сказав не дуже правильне твердження."
   ]
  },
  {
   "cell_type": "markdown",
   "id": "d04de41d-4971-4a31-8b38-49023a99ac18",
   "metadata": {},
   "source": [
    "Це була перевірка гіпотез. Значення, яке ми отримали у вигляді 13%, - це наше P-Value. P-Value - це особливий тип ймовірності."
   ]
  },
  {
   "cell_type": "markdown",
   "id": "25e1706b-fd56-4640-8276-6008b97ca3d7",
   "metadata": {},
   "source": [
    "Таким чином, ми провели експеримент власноруч, зробили симуляцію. Але існує не один статистичний тест, який може виявити різницю між нашими гіпотезами. Давайте введемо наші дані у Z-Test."
   ]
  },
  {
   "cell_type": "code",
   "execution_count": 82,
   "id": "378a369a-98d1-4b84-91f4-0b80fe6e9d00",
   "metadata": {
    "tags": []
   },
   "outputs": [],
   "source": [
    "from statsmodels.stats.proportion import proportions_ztest"
   ]
  },
  {
   "cell_type": "code",
   "execution_count": 83,
   "id": "56791068-4439-4558-b4e8-ca079a732351",
   "metadata": {
    "tags": []
   },
   "outputs": [
    {
     "data": {
      "text/plain": [
       "(-1.1547005383792526, 0.12410653949496159)"
      ]
     },
     "execution_count": 83,
     "metadata": {},
     "output_type": "execute_result"
    }
   ],
   "source": [
    "proportions_ztest(75,100,value=0.8,alternative='smaller')"
   ]
  },
  {
   "cell_type": "markdown",
   "id": "9d2d4ba4-71e2-4bd3-8cdb-4c20b309e6a2",
   "metadata": {},
   "source": [
    "Отримали приблизно таке значення, як при нашому досліді. Слід зауважити, що Z-test працює на гіпотезі про нормальний розподіл."
   ]
  },
  {
   "cell_type": "code",
   "execution_count": 84,
   "id": "ce0f526b-3263-4cd2-a85c-2524a556e0c3",
   "metadata": {
    "tags": []
   },
   "outputs": [
    {
     "data": {
      "text/plain": [
       "<Axes: ylabel='Count'>"
      ]
     },
     "execution_count": 84,
     "metadata": {},
     "output_type": "execute_result"
    },
    {
     "data": {
      "image/png": "[encoded data removed]",
      "text/plain": [
       "<Figure size 640x480 with 1 Axes>"
      ]
     },
     "metadata": {},
     "output_type": "display_data"
    }
   ],
   "source": [
    "sns.histplot([np.random.binomial(1,0.8,size=100).mean() for _ in range(10000)])"
   ]
  },
  {
   "cell_type": "markdown",
   "id": "49a768da-eb4a-432b-bb52-d2abd74adcb1",
   "metadata": {},
   "source": [
    "За нашою теоремою ми бачимо, що середні значення розподілення \"нормально\". Наше середнє значення, яке частіше зустрічається, буде стояти посередині гістограми. Такі знання включає в себе Z-test, і йому не потрібно робити стільки експериментів, як нам; йому достатньо знати цю теорему. Також, ми наше значення P-Value можемо уявляти як площу. Якщо ми уявимо наші 12 відсотків на гістограмі, то сильно багато буде займати ця площа (отримати значення з альтернативної гіпотези при тому, що вірна нульова). Це добре все, ми трошки зрозуміли, що з себе уявляє перевірка гіпотез та P-value. Я вважаю, ми подивились на це досить реальному прикладі, і це був достатньо простий приклад. Тепер уявімо іншу ситуацію.\n",
    "\n",
    "Ми, звісно, хочемо покращити наш додаток. Наразі не так важливо саме як, по всім фронтам нам треба його показати. Припустимо, що ми вирішили додати в наш застосунок нову функцію. Нехай наш банк став співпрацювати з якоюсь компанією. І ми вирішили весь кешбек, який отримують люди, повертати не на стару картку, а на створену нову при умові, що ціни в новому магазині куплених товарів з цієї картки будуть менші. І ми не знаємо реакції людей. Можливі декілька ісходів: або людям сподобається це і вони будуть користуватися нашим застосунком частіше, або люди скажуть, що їм було зручніше отримувати кешбек на стару картку і витрачати ці гроші на все, а не тільки на компанію, яка стала з нами співпрацювати. Можливо, клієнти ще зовсім не полюблять наш банк, і скажуть, що нормального кешбеку немає, і ми будемо користуватися іншими банками. Давайте згенеруємо таку ситуацію."
   ]
  },
  {
   "cell_type": "markdown",
   "id": "68b1161f-7e96-4440-8ef7-bbf746e2f67f",
   "metadata": {},
   "source": [
    "Конверсія на нашому лендінгу становить 10%. Покажемо нашу нову функцію тільки 30% користувачам."
   ]
  },
  {
   "cell_type": "code",
   "execution_count": 89,
   "id": "f31ff852-3ac5-4f3c-b767-45e15077060b",
   "metadata": {
    "tags": []
   },
   "outputs": [],
   "source": [
    "df = pd.DataFrame({'group':['old landing (A)', 'new landing (B)'],\n",
    "                   'lead':[700,300], 'users':[70,48]})"
   ]
  },
  {
   "cell_type": "code",
   "execution_count": 91,
   "id": "1a51c11a-0700-4fac-8818-fff260a3dec9",
   "metadata": {
    "tags": []
   },
   "outputs": [],
   "source": [
    "df['cr'] = df.users / df.lead"
   ]
  },
  {
   "cell_type": "code",
   "execution_count": 92,
   "id": "8ea6953b-42a7-4b3f-b63f-7c098844add8",
   "metadata": {
    "tags": []
   },
   "outputs": [
    {
     "data": {
      "text/html": [
       "<div>\n",
       "<style scoped>\n",
       "    .dataframe tbody tr th:only-of-type {\n",
       "        vertical-align: middle;\n",
       "    }\n",
       "\n",
       "    .dataframe tbody tr th {\n",
       "        vertical-align: top;\n",
       "    }\n",
       "\n",
       "    .dataframe thead th {\n",
       "        text-align: right;\n",
       "    }\n",
       "</style>\n",
       "<table border=\"1\" class=\"dataframe\">\n",
       "  <thead>\n",
       "    <tr style=\"text-align: right;\">\n",
       "      <th></th>\n",
       "      <th>group</th>\n",
       "      <th>lead</th>\n",
       "      <th>users</th>\n",
       "      <th>cr</th>\n",
       "    </tr>\n",
       "  </thead>\n",
       "  <tbody>\n",
       "    <tr>\n",
       "      <th>0</th>\n",
       "      <td>old landing (A)</td>\n",
       "      <td>700</td>\n",
       "      <td>70</td>\n",
       "      <td>0.10</td>\n",
       "    </tr>\n",
       "    <tr>\n",
       "      <th>1</th>\n",
       "      <td>new landing (B)</td>\n",
       "      <td>300</td>\n",
       "      <td>48</td>\n",
       "      <td>0.16</td>\n",
       "    </tr>\n",
       "  </tbody>\n",
       "</table>\n",
       "</div>"
      ],
      "text/plain": [
       "             group  lead  users    cr\n",
       "0  old landing (A)   700     70  0.10\n",
       "1  new landing (B)   300     48  0.16"
      ]
     },
     "execution_count": 92,
     "metadata": {},
     "output_type": "execute_result"
    }
   ],
   "source": [
    "df"
   ]
  },
  {
   "cell_type": "markdown",
   "id": "26af659f-4f60-4b6b-b1cd-b4b23a663790",
   "metadata": {},
   "source": [
    "Після проведення експерименту конверсія в ситуації з новою функцією, здається, є більшою, ніж раніше. Ми можемо сказати, що функція стала успішною. Але жарти в сторону. Ми розуміємо, що такі результати можна отримати абсолютно випадково. Тому нам треба перевірити, чи це правда. Сформулюємо нашу H0: нехай ніякої різниці немає між нашими лендінгами, і вони однакові. H1 буде такою, що різниця є. І яка ймовірність при тому, що різниці немає, отримати статистично значущі результати та зробити висновок, що різниця є між даними."
   ]
  },
  {
   "cell_type": "code",
   "execution_count": 93,
   "id": "41e1dd2a-9c83-40e0-859d-b28907bc3426",
   "metadata": {
    "tags": []
   },
   "outputs": [
    {
     "data": {
      "text/plain": [
       "0.118"
      ]
     },
     "execution_count": 93,
     "metadata": {},
     "output_type": "execute_result"
    }
   ],
   "source": [
    "(70 + 48) / 1000"
   ]
  },
  {
   "cell_type": "code",
   "execution_count": 94,
   "id": "e79e182e-bf35-4cb8-b3b1-cd3b24249efc",
   "metadata": {
    "tags": []
   },
   "outputs": [
    {
     "data": {
      "text/plain": [
       "0.12142857142857143"
      ]
     },
     "execution_count": 94,
     "metadata": {},
     "output_type": "execute_result"
    }
   ],
   "source": [
    "np.random.binomial(1,0.118,size=700).mean()"
   ]
  },
  {
   "cell_type": "code",
   "execution_count": 95,
   "id": "97317f48-4dd6-4558-b98e-58fe38d21611",
   "metadata": {
    "tags": []
   },
   "outputs": [
    {
     "data": {
      "text/plain": [
       "0.12666666666666668"
      ]
     },
     "execution_count": 95,
     "metadata": {},
     "output_type": "execute_result"
    }
   ],
   "source": [
    "np.random.binomial(1,0.118,size=300).mean()"
   ]
  },
  {
   "cell_type": "code",
   "execution_count": 98,
   "id": "733492ac-0205-4ad8-92ce-9ba56935f2d5",
   "metadata": {
    "tags": []
   },
   "outputs": [
    {
     "data": {
      "text/plain": [
       "0.00904761904761904"
      ]
     },
     "execution_count": 98,
     "metadata": {},
     "output_type": "execute_result"
    }
   ],
   "source": [
    "np.random.binomial(1,0.118,size=300).mean() - np.random.binomial(1,0.118,size=700).mean()"
   ]
  },
  {
   "cell_type": "markdown",
   "id": "f040a92e-983c-4b8f-945f-dad1c164760b",
   "metadata": {},
   "source": [
    "Ми привели наші дані до однієї ймовірності. І якщо дійсно наш новий експеримент кращий, то коли ми будемо віднімати ймовірність старої конверсії від ймовірності нової, число повинно бути більше за нашу стару конверсію."
   ]
  },
  {
   "cell_type": "code",
   "execution_count": 118,
   "id": "8de57f50-59fb-405e-94ae-2a12daa26733",
   "metadata": {
    "tags": []
   },
   "outputs": [
    {
     "data": {
      "text/plain": [
       "False"
      ]
     },
     "execution_count": 118,
     "metadata": {},
     "output_type": "execute_result"
    }
   ],
   "source": [
    "(np.random.binomial(1,0.118,size=300).mean() - np.random.binomial(1,0.118,size=700).mean()) > 0.06"
   ]
  },
  {
   "cell_type": "code",
   "execution_count": 119,
   "id": "7abfb882-3420-4980-a4ed-08cbbe32f165",
   "metadata": {
    "tags": []
   },
   "outputs": [
    {
     "data": {
      "text/plain": [
       "0.06"
      ]
     },
     "execution_count": 119,
     "metadata": {},
     "output_type": "execute_result"
    }
   ],
   "source": [
    "abs(0.1 - 0.16)"
   ]
  },
  {
   "cell_type": "markdown",
   "id": "d06452da-d269-4f21-83cc-0642218035d6",
   "metadata": {},
   "source": [
    "у нас тут виходить різниця 6 відсотків"
   ]
  },
  {
   "cell_type": "code",
   "execution_count": 132,
   "id": "149777a5-0ee8-4aaf-b4ea-d70ac0f9fde0",
   "metadata": {
    "tags": []
   },
   "outputs": [
    {
     "data": {
      "text/plain": [
       "0.0075"
      ]
     },
     "execution_count": 132,
     "metadata": {},
     "output_type": "execute_result"
    }
   ],
   "source": [
    "np.mean([abs( (np.random.binomial(1,0.118,size=300).mean() \n",
    "- np.random.binomial(1,0.118,size=700).mean())) > 0.06 for _ in range(10000) ]) "
   ]
  },
  {
   "cell_type": "markdown",
   "id": "27d3decc-1408-4c64-8e38-36437b340f83",
   "metadata": {},
   "source": [
    "Беремо модуль, щоб дивитися вже на обидві сторони, результат може бути як кращим, так і гіршим. Ми тут отримали результат дуже малий, в нас немає відсотків. І ми можемо зробити висновок: ПРИ ТОМУ ЩО РІЗНИЦІ НІЯКОЇ НЕМАЄ, ОТРИМАТИ ТАКУ РІЗНИЦЮ І БІЛЬШЕ ЙМОВІРНІСТЬ МЕНШЕ ОДНОГО ВІДСОТКА. Отже, ми можемо зробити висновок, що ймовірність є дуже малою, для того щоб стверджувати, що H0 правильна. Майже такий самий результат ми отримаємо, якщо використаємо Z-test."
   ]
  },
  {
   "cell_type": "code",
   "execution_count": 135,
   "id": "6bb75cef-ca4a-4532-b888-059be78d59f2",
   "metadata": {
    "tags": []
   },
   "outputs": [
    {
     "data": {
      "text/plain": [
       "(-2.695166510284625, 0.007035346384355496)"
      ]
     },
     "execution_count": 135,
     "metadata": {},
     "output_type": "execute_result"
    }
   ],
   "source": [
    "proportions_ztest([70,48],[700,300])"
   ]
  },
  {
   "cell_type": "markdown",
   "id": "ecd9a2f1-7387-4456-a912-e06c6b96204b",
   "metadata": {},
   "source": [
    "Хочу ще сказати про деякі речі. Сама перевірка гіпотез в статистиці формалізована і є свого роду фреймворком. Ми йдемо за сценарієм. Так само ми оцінюємо нашу ймовірність. В статистиці прийнято відхиляти нульову гіпотезу при α = 0.05 (5%). Але в деяких ситуаціях нам потрібно знизити таку ймовірність аж до 1%, особливо в ситуаціях, де помилки неприпустимі. Але ми повинні розуміти, що ми все одно маємо ймовірність зробити помилку. Коли ми прийняли альтернативну гіпотезу, а була правильна основна, ми припустилися помилки першого роду. Ще гірше, коли не прийняли альтернативу, а вона була вірна. І весь сенс в тому, що α (альфа) ми обираємо до того, як проводити тест. Це наш поріг."
   ]
  },
  {
   "cell_type": "code",
   "execution_count": 136,
   "id": "fe95d9ab-9405-4ee5-a551-4118a71c0ef9",
   "metadata": {
    "tags": []
   },
   "outputs": [],
   "source": [
    "from tqdm.notebook import tqdm"
   ]
  },
  {
   "cell_type": "code",
   "execution_count": 138,
   "id": "cbc86da0-45ce-4343-a69a-f7887797573b",
   "metadata": {
    "tags": []
   },
   "outputs": [
    {
     "data": {
      "application/vnd.jupyter.widget-view+json": {
       "model_id": "166b52b7c0bd41deba0fd4efa3a52dfd",
       "version_major": 2,
       "version_minor": 0
      },
      "text/plain": [
       "  0%|          | 0/1000 [00:00<?, ?it/s]"
      ]
     },
     "metadata": {},
     "output_type": "display_data"
    }
   ],
   "source": [
    "n = 1000\n",
    "result = []\n",
    "for _ in tqdm(range(n)):\n",
    "    a = np.random.binomial(1,0.118,size=700)\n",
    "    b = np.random.binomial(1,0.118,size=300)\n",
    "    diff = abs(a.mean() - b.mean())\n",
    "    null_hyp_prob = np.concatenate([a,b]).mean()\n",
    "    pval = np.mean([abs(np.random.binomial(1,null_hyp_prob,size=300).mean() \n",
    "    - np.random.binomial(1,null_hyp_prob,size=700).mean()) >= diff for _ in range(10000)])\n",
    "    result.append(pval)"
   ]
  },
  {
   "cell_type": "code",
   "execution_count": 141,
   "id": "297fd6a8-5777-48b2-9bdd-81e60d155849",
   "metadata": {
    "tags": []
   },
   "outputs": [
    {
     "data": {
      "text/plain": [
       "<Axes: ylabel='Count'>"
      ]
     },
     "execution_count": 141,
     "metadata": {},
     "output_type": "execute_result"
    },
    {
     "data": {
      "image/png": "[encoded data removed]",
      "text/plain": [
       "<Figure size 640x480 with 1 Axes>"
      ]
     },
     "metadata": {},
     "output_type": "display_data"
    }
   ],
   "source": [
    "sns.histplot(pd.Series(result))"
   ]
  },
  {
   "cell_type": "markdown",
   "id": "22efa3ab-7611-47cb-9c02-341d3c559142",
   "metadata": {},
   "source": [
    "Далі наостанок я захотів додати такий факт: якщо в нас є порівняння між двома вибірками, в яких немає різниці, вони так сгенеровані. Якщо робити тест для вірної H0, що ніякої різниці немає, p-value буде розподілено нормально. Тоді наше P-Value буде на графіку мати нормальне розподілення. Якщо в вибірках є різниця, графік буде мати рівномірне розподілення."
   ]
  },
  {
   "cell_type": "code",
   "execution_count": null,
   "id": "b295a447-6f20-4c31-b515-b6b485ebafef",
   "metadata": {
    "tags": []
   },
   "outputs": [],
   "source": [
    "\n"
   ]
  },
  {
   "cell_type": "code",
   "execution_count": null,
   "id": "c26d5d3c-0e08-4886-aea4-03a172d65066",
   "metadata": {},
   "outputs": [],
   "source": []
  }
 ],
 "metadata": {
  "kernelspec": {
   "display_name": "Python 3 (ipykernel)",
   "language": "python",
   "name": "python3"
  },
  "language_info": {
   "codemirror_mode": {
    "name": "ipython",
    "version": 3
   },
   "file_extension": ".py",
   "mimetype": "text/x-python",
   "name": "python",
   "nbconvert_exporter": "python",
   "pygments_lexer": "ipython3",
   "version": "3.11.5"
  }
 },
 "nbformat": 4,
 "nbformat_minor": 5
}
